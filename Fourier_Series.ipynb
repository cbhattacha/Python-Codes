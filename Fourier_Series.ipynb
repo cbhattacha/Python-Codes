{
 "cells": [
  {
   "cell_type": "code",
   "execution_count": 1,
   "metadata": {},
   "outputs": [],
   "source": [
    "import matplotlib.pyplot as plt\n",
    "import numpy as np\n",
    "import math\n",
    "from ipywidgets import interact\n",
    "from ipywidgets.widgets import IntSlider, Dropdown, FloatSlider\n",
    "plt.ion()"
   ]
  },
  {
   "cell_type": "code",
   "execution_count": 19,
   "metadata": {},
   "outputs": [
    {
     "data": {
      "application/vnd.jupyter.widget-view+json": {
       "model_id": "fdf2597aa0d745f49067033ef1932166",
       "version_major": 2,
       "version_minor": 0
      },
      "text/plain": [
       "interactive(children=(FloatSlider(value=0.0, description='A1', max=1.0, min=-1.0), FloatSlider(value=0.0, desc…"
      ]
     },
     "metadata": {},
     "output_type": "display_data"
    }
   ],
   "source": [
    "def plot_data(A1,B1,A2,B2,A3,B3,A4,B4,w):\n",
    "    Amp_sin=[A1,A2,A3,A4]\n",
    "    Amp_cos=[B1,B2,B3,B4]\n",
    "    w_rad=w*(math.pi/180)\n",
    "    print('Amp_sin:',Amp_sin,'Amp cos:', Amp_cos)\n",
    "    x=np.linspace(0,70,100)\n",
    "    y=0\n",
    "    for i in range(4):\n",
    "        y+=np.sin(x*w_rad)*Amp_sin[i]+np.cos(x*w_rad)*Amp_cos[i]\n",
    "    plt.plot(x,y,'r-')\n",
    "    plt.suptitle('Fourier Series')\n",
    "    plt.ylabel('f(x)')\n",
    "    plt.xlabel('time (in sec)')\n",
    "    plt.show()\n",
    "   \n",
    "\n",
    "p = interact(plot_data, A1=FloatSlider(min=-1,max=1,step=0.1),B1=FloatSlider(min=-1,max=1,step=0.1),A2=FloatSlider(min=-1,max=1,step=0.1),B2=FloatSlider(min=-1,max=1,step=0.1),A3=FloatSlider(min=-1,max=1,step=0.1),B3=FloatSlider(min=-1,max=1,step=0.1),A4=FloatSlider(min=-1,max=1,step=0.1),B4=FloatSlider(min=-1,max=1,step=0.1),w=IntSlider(0,0,180))"
   ]
  },
  {
   "cell_type": "code",
   "execution_count": null,
   "metadata": {},
   "outputs": [],
   "source": []
  },
  {
   "cell_type": "code",
   "execution_count": null,
   "metadata": {},
   "outputs": [],
   "source": []
  }
 ],
 "metadata": {
  "kernelspec": {
   "display_name": "Python 3",
   "language": "python",
   "name": "python3"
  },
  "language_info": {
   "codemirror_mode": {
    "name": "ipython",
    "version": 3
   },
   "file_extension": ".py",
   "mimetype": "text/x-python",
   "name": "python",
   "nbconvert_exporter": "python",
   "pygments_lexer": "ipython3",
   "version": "3.7.3"
  }
 },
 "nbformat": 4,
 "nbformat_minor": 2
}
