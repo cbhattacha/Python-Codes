{
 "cells": [
  {
   "cell_type": "markdown",
   "metadata": {},
   "source": [
    "### Fourier Series Plot"
   ]
  },
  {
   "cell_type": "code",
   "execution_count": null,
   "metadata": {},
   "outputs": [],
   "source": [
    "!pip install matplotlib --quiet"
   ]
  },
  {
   "cell_type": "code",
   "execution_count": 1,
   "metadata": {},
   "outputs": [],
   "source": [
    "import matplotlib.pyplot as plt\n",
    "import numpy as np\n",
    "import math\n",
    "from ipywidgets import interact\n",
    "from ipywidgets.widgets import IntSlider, Dropdown, FloatSlider\n",
    "plt.ion()"
   ]
  },
  {
   "cell_type": "code",
   "execution_count": 2,
   "metadata": {},
   "outputs": [
    {
     "data": {
      "application/vnd.jupyter.widget-view+json": {
       "model_id": "901412508bf747e6acde42ce1ee55bff",
       "version_major": 2,
       "version_minor": 0
      },
      "text/plain": [
       "interactive(children=(FloatSlider(value=0.0, description='A1', max=1.0, min=-1.0), FloatSlider(value=0.0, desc…"
      ]
     },
     "metadata": {},
     "output_type": "display_data"
    }
   ],
   "source": [
    "# Function takes all the Amplitude values and frequency as input\n",
    "# Frequency is converted to radians as it's provided in degrees\n",
    "# Fourier series,f(x) is calculated as:\n",
    "# f(t)=An*sin(nwt)+ Bn*cos(nwt)\n",
    "\n",
    "def plot_fourier_series(A1,B1,A2,B2,A3,B3,A4,B4,w):\n",
    "    Amp_sin=[A1,A2,A3,A4]\n",
    "    Amp_cos=[B1,B2,B3,B4]\n",
    "    w_rad=w*(math.pi/180)\n",
    "    x=np.linspace(0,70,100)\n",
    "    y=0\n",
    "    for i in range(4):\n",
    "        n=i+1\n",
    "        y+=np.sin(n*x*w_rad)*Amp_sin[i]+np.cos(n*x*w_rad)*Amp_cos[i]\n",
    "    plt.plot(x,y,'r-')\n",
    "    plt.suptitle('Fourier Series Plot', fontsize=16,ha='center', color='m')\n",
    "    plt.ylabel('f(x)')\n",
    "    plt.xlabel('time (in sec)')\n",
    "    plt.show()\n",
    "   \n",
    "\n",
    "p = interact(plot_fourier_series, A1=FloatSlider(min=-1,max=1,step=0.1),B1=FloatSlider(min=-1,max=1,step=0.1),A2=FloatSlider(min=-1,max=1,step=0.1),B2=FloatSlider(min=-1,max=1,step=0.1),A3=FloatSlider(min=-1,max=1,step=0.1),B3=FloatSlider(min=-1,max=1,step=0.1),A4=FloatSlider(min=-1,max=1,step=0.1),B4=FloatSlider(min=-1,max=1,step=0.1),w=IntSlider(0,45,180))"
   ]
  },
  {
   "cell_type": "code",
   "execution_count": null,
   "metadata": {},
   "outputs": [],
   "source": []
  },
  {
   "cell_type": "code",
   "execution_count": null,
   "metadata": {},
   "outputs": [],
   "source": []
  }
 ],
 "metadata": {
  "kernelspec": {
   "display_name": "Python 3",
   "language": "python",
   "name": "python3"
  },
  "language_info": {
   "codemirror_mode": {
    "name": "ipython",
    "version": 3
   },
   "file_extension": ".py",
   "mimetype": "text/x-python",
   "name": "python",
   "nbconvert_exporter": "python",
   "pygments_lexer": "ipython3",
   "version": "3.7.3"
  }
 },
 "nbformat": 4,
 "nbformat_minor": 2
}
